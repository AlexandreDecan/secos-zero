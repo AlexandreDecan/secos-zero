{
 "cells": [
  {
   "cell_type": "markdown",
   "metadata": {},
   "source": [
    "This notebook aims to find good candidate packages to ask their maintainer about 0.y.z/>=1.0.0 perception."
   ]
  },
  {
   "cell_type": "code",
   "execution_count": 1,
   "metadata": {},
   "outputs": [],
   "source": [
    "import pandas"
   ]
  },
  {
   "cell_type": "code",
   "execution_count": 3,
   "metadata": {},
   "outputs": [],
   "source": [
    "ECOSYSTEMS = ['Cargo', 'NPM', 'Packagist', 'Rubygems']\n",
    "CENSOR_DATE = pandas.to_datetime('2020-01-12')"
   ]
  },
  {
   "cell_type": "code",
   "execution_count": 4,
   "metadata": {},
   "outputs": [
    {
     "name": "stdout",
     "output_type": "stream",
     "text": [
      "Loading Cargo\n",
      ".. releases\n",
      ".. dependencies\n",
      "Loading NPM\n",
      ".. releases\n",
      ".. dependencies\n",
      "Loading Packagist\n",
      ".. releases\n",
      ".. dependencies\n",
      "Loading Rubygems\n",
      ".. releases\n",
      ".. dependencies\n",
      "Done!\n"
     ]
    }
   ],
   "source": [
    "df_releases = dict()\n",
    "df_dependencies = dict()\n",
    "\n",
    "for ecosystem in ECOSYSTEMS:\n",
    "    print('Loading', ecosystem)\n",
    "    print('.. releases')\n",
    "    df_releases[ecosystem] = (\n",
    "        pandas.read_csv(\n",
    "            '../data/{}-releases.csv.gz'.format(ecosystem),\n",
    "            parse_dates=['date'],\n",
    "            infer_datetime_format=True,\n",
    "        )\n",
    "        [lambda d: d['date'] >= pandas.to_datetime('1990-01-01')]\n",
    "    )\n",
    "    \n",
    "    print('.. dependencies')\n",
    "    df_dependencies[ecosystem] = (\n",
    "        pandas.read_csv(\n",
    "            '../data/{}-dependencies.csv.gz'.format(ecosystem),\n",
    "        )\n",
    "    )\n",
    "print('Done!')"
   ]
  },
  {
   "cell_type": "markdown",
   "metadata": {},
   "source": [
    "## Selection criteria"
   ]
  },
  {
   "cell_type": "code",
   "execution_count": 56,
   "metadata": {},
   "outputs": [],
   "source": [
    "df_candidates = pandas.concat([\n",
    "    (\n",
    "        # On releases\n",
    "        df_releases[ecosystem]\n",
    "        .assign(pre1=lambda d: d['major'] == 0)\n",
    "        .assign(post1=lambda d: d['major'] > 0)\n",
    "        .assign(reached=lambda d: d['date'].where(d['pre1'], pandas.np.nan))\n",
    "        .assign(created=lambda d: d['date'])\n",
    "        .groupby('package', sort=False, as_index=False)\n",
    "        .agg({\n",
    "            'pre1': 'sum',\n",
    "            'post1': 'sum',\n",
    "            'reached': 'max',\n",
    "            'created': 'min',\n",
    "        })\n",
    "\n",
    "        # On dependencies\n",
    "        .merge(\n",
    "            (\n",
    "                df_dependencies[ecosystem]\n",
    "                .drop_duplicates(['source', 'target'], keep='last')\n",
    "                .groupby('target', sort=False, as_index=False)\n",
    "                .agg({'source': 'count'})\n",
    "                .rename(columns={'source': 'dependents'})\n",
    "                [['target', 'dependents']]\n",
    "            ),\n",
    "            how='left',\n",
    "            left_on='package',\n",
    "            right_on='target',\n",
    "        )\n",
    "        .merge(\n",
    "            (\n",
    "                df_dependencies[ecosystem]\n",
    "                .drop_duplicates(['source', 'target'], keep='last')\n",
    "                .assign(pre1deps=lambda d: d['i_dev'])\n",
    "                .assign(post1deps=lambda d: ~d['i_dev'])\n",
    "                .groupby('source', as_index=False, sort=False)\n",
    "                .agg({\n",
    "                    'pre1deps': 'sum',\n",
    "                    'post1deps': 'sum',\n",
    "                })\n",
    "                [['source', 'pre1deps', 'post1deps']]\n",
    "            ),\n",
    "            how='left',\n",
    "            left_on='package',\n",
    "            right_on='source',\n",
    "        )\n",
    "\n",
    "        .assign(ecosystem=ecosystem)\n",
    "        [['ecosystem', 'package', 'created', 'reached', 'pre1', 'post1', 'dependents', 'pre1deps', 'post1deps',]]\n",
    "    )\n",
    "    for ecosystem in ECOSYSTEMS]\n",
    ")"
   ]
  },
  {
   "cell_type": "code",
   "execution_count": 62,
   "metadata": {},
   "outputs": [
    {
     "name": "stdout",
     "output_type": "stream",
     "text": [
      "Cargo has 9 candidates out of 34769 (0.03%)\n",
      "NPM has 309 candidates out of 1217677 (0.03%)\n",
      "Packagist has 9 candidates out of 180093 (0.00%)\n",
      "Rubygems has 8 candidates out of 154997 (0.01%)\n"
     ]
    }
   ],
   "source": [
    "CREATED_SINCE = CENSOR_DATE - pandas.to_timedelta('365 days')\n",
    "REACHED_SINCE = (\n",
    "    CENSOR_DATE - pandas.to_timedelta('364 days'),\n",
    "    CENSOR_DATE - pandas.to_timedelta('15 days'),\n",
    ")\n",
    "PRE1_RELEASES = 2\n",
    "POST1_RELEASES = 2\n",
    "DEPENDENTS = 5\n",
    "PRE1_DEPS = 1\n",
    "POST1_DEPS = 1\n",
    "\n",
    "mask = lambda d: (\n",
    "    (d['dependents'] >= DEPENDENTS) &\n",
    "    (d['pre1deps'] >= PRE1_DEPS) &\n",
    "    (d['post1deps'] >= POST1_DEPS) &\n",
    "    (d['created'] <= CREATED_SINCE) & \n",
    "    (d['reached'].between(*REACHED_SINCE)) &\n",
    "    (d['pre1'] >= PRE1_RELEASES) &\n",
    "    (d['post1'] >= POST1_RELEASES)\n",
    ")\n",
    "\n",
    "for ecosystem in ECOSYSTEMS:\n",
    "    _ = df_candidates[lambda d: d['ecosystem'] == ecosystem]\n",
    "    print(ecosystem, 'has', len(_[mask]), 'candidates out of', len(_), '({:.2%})'.format(len(_[mask]) / len(_)))"
   ]
  }
 ],
 "metadata": {
  "kernelspec": {
   "display_name": "Python 3",
   "language": "python",
   "name": "python3"
  },
  "language_info": {
   "codemirror_mode": {
    "name": "ipython",
    "version": 3
   },
   "file_extension": ".py",
   "mimetype": "text/x-python",
   "name": "python",
   "nbconvert_exporter": "python",
   "pygments_lexer": "ipython3",
   "version": "3.6.8"
  }
 },
 "nbformat": 4,
 "nbformat_minor": 4
}
